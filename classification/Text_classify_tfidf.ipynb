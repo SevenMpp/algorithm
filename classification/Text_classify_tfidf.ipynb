{
 "cells": [
  {
   "cell_type": "code",
   "execution_count": 1,
   "metadata": {},
   "outputs": [],
   "source": [
    "import pandas as pd\n",
    "import numpy as np\n"
   ]
  },
  {
   "cell_type": "code",
   "execution_count": 103,
   "metadata": {},
   "outputs": [],
   "source": [
    "filename = \"text_classify_1.csv\""
   ]
  },
  {
   "cell_type": "code",
   "execution_count": 104,
   "metadata": {},
   "outputs": [],
   "source": [
    "df = pd.read_csv(filename)"
   ]
  },
  {
   "cell_type": "code",
   "execution_count": 105,
   "metadata": {},
   "outputs": [
    {
     "data": {
      "text/html": [
       "<div>\n",
       "<style scoped>\n",
       "    .dataframe tbody tr th:only-of-type {\n",
       "        vertical-align: middle;\n",
       "    }\n",
       "\n",
       "    .dataframe tbody tr th {\n",
       "        vertical-align: top;\n",
       "    }\n",
       "\n",
       "    .dataframe thead th {\n",
       "        text-align: right;\n",
       "    }\n",
       "</style>\n",
       "<table border=\"1\" class=\"dataframe\">\n",
       "  <thead>\n",
       "    <tr style=\"text-align: right;\">\n",
       "      <th></th>\n",
       "      <th>target</th>\n",
       "      <th>context</th>\n",
       "    </tr>\n",
       "  </thead>\n",
       "  <tbody>\n",
       "    <tr>\n",
       "      <td>0</td>\n",
       "      <td>买房</td>\n",
       "      <td>房子还在吗</td>\n",
       "    </tr>\n",
       "    <tr>\n",
       "      <td>1</td>\n",
       "      <td>买房</td>\n",
       "      <td>什么时候可以看房？</td>\n",
       "    </tr>\n",
       "    <tr>\n",
       "      <td>2</td>\n",
       "      <td>买房</td>\n",
       "      <td>您好，请问这套房子还在吗？</td>\n",
       "    </tr>\n",
       "    <tr>\n",
       "      <td>3</td>\n",
       "      <td>买房</td>\n",
       "      <td>你好，我想在浦东新场附近买个商住两用的房子</td>\n",
       "    </tr>\n",
       "    <tr>\n",
       "      <td>4</td>\n",
       "      <td>买房</td>\n",
       "      <td>我是想全款买套房，560左右，想找个不满二税费高的房子，这样我买就很划算</td>\n",
       "    </tr>\n",
       "  </tbody>\n",
       "</table>\n",
       "</div>"
      ],
      "text/plain": [
       "  target                               context\n",
       "0     买房                                 房子还在吗\n",
       "1     买房                             什么时候可以看房？\n",
       "2     买房                         您好，请问这套房子还在吗？\n",
       "3     买房                 你好，我想在浦东新场附近买个商住两用的房子\n",
       "4     买房  我是想全款买套房，560左右，想找个不满二税费高的房子，这样我买就很划算"
      ]
     },
     "execution_count": 105,
     "metadata": {},
     "output_type": "execute_result"
    }
   ],
   "source": [
    "df.head()"
   ]
  },
  {
   "cell_type": "code",
   "execution_count": 106,
   "metadata": {},
   "outputs": [
    {
     "name": "stdout",
     "output_type": "stream",
     "text": [
      "在 cat 列中总共有 0 个空值.\n",
      "在 review 列中总共有 0 个空值.\n"
     ]
    }
   ],
   "source": [
    "print(\"在 target 列中总共有 %d 个空值.\" % df['target'].isnull().sum())\n",
    "print(\"在 context 列中总共有 %d 个空值.\" % df['context'].isnull().sum())\n",
    "df[df.isnull().values==True]\n",
    "df = df[pd.notnull(df['context'])]"
   ]
  },
  {
   "cell_type": "code",
   "execution_count": 107,
   "metadata": {},
   "outputs": [
    {
     "name": "stdout",
     "output_type": "stream",
     "text": [
      "在 cat 列中总共有 0 个空值.\n",
      "在 review 列中总共有 0 个空值.\n"
     ]
    }
   ],
   "source": [
    "print(\"在 target 列中总共有 %d 个空值.\" % df['target'].isnull().sum())\n",
    "print(\"在 context 列中总共有 %d 个空值.\" % df['context'].isnull().sum())"
   ]
  },
  {
   "cell_type": "code",
   "execution_count": 108,
   "metadata": {},
   "outputs": [
    {
     "data": {
      "text/html": [
       "<div>\n",
       "<style scoped>\n",
       "    .dataframe tbody tr th:only-of-type {\n",
       "        vertical-align: middle;\n",
       "    }\n",
       "\n",
       "    .dataframe tbody tr th {\n",
       "        vertical-align: top;\n",
       "    }\n",
       "\n",
       "    .dataframe thead th {\n",
       "        text-align: right;\n",
       "    }\n",
       "</style>\n",
       "<table border=\"1\" class=\"dataframe\">\n",
       "  <thead>\n",
       "    <tr style=\"text-align: right;\">\n",
       "      <th></th>\n",
       "      <th>target</th>\n",
       "      <th>context</th>\n",
       "      <th>target_id</th>\n",
       "    </tr>\n",
       "  </thead>\n",
       "  <tbody>\n",
       "    <tr>\n",
       "      <td>43</td>\n",
       "      <td>买房</td>\n",
       "      <td>我要买楼</td>\n",
       "      <td>0</td>\n",
       "    </tr>\n",
       "    <tr>\n",
       "      <td>738</td>\n",
       "      <td>租赁</td>\n",
       "      <td>计划租一个大约6350块钱左右地</td>\n",
       "      <td>1</td>\n",
       "    </tr>\n",
       "    <tr>\n",
       "      <td>860</td>\n",
       "      <td>咨询</td>\n",
       "      <td>2019年满五年的房子过户要交多少税？</td>\n",
       "      <td>2</td>\n",
       "    </tr>\n",
       "    <tr>\n",
       "      <td>287</td>\n",
       "      <td>买房</td>\n",
       "      <td>计划买个预估900萬元RMB毛坯房</td>\n",
       "      <td>0</td>\n",
       "    </tr>\n",
       "    <tr>\n",
       "      <td>223</td>\n",
       "      <td>买房</td>\n",
       "      <td>买个大约450萬元左右毛坯房产</td>\n",
       "      <td>0</td>\n",
       "    </tr>\n",
       "  </tbody>\n",
       "</table>\n",
       "</div>"
      ],
      "text/plain": [
       "    target              context  target_id\n",
       "43      买房                 我要买楼          0\n",
       "738     租赁     计划租一个大约6350块钱左右地          1\n",
       "860     咨询  2019年满五年的房子过户要交多少税？          2\n",
       "287     买房    计划买个预估900萬元RMB毛坯房          0\n",
       "223     买房      买个大约450萬元左右毛坯房产          0"
      ]
     },
     "execution_count": 108,
     "metadata": {},
     "output_type": "execute_result"
    }
   ],
   "source": [
    "df['target_id'] = df['target'].factorize()[0]\n",
    "cat_id_df = df[['target', 'target_id']].drop_duplicates().sort_values('target_id').reset_index(drop=True)\n",
    "cat_to_id = dict(cat_id_df.values)\n",
    "id_to_cat = dict(cat_id_df[['target_id', 'target']].values)\n",
    "df.sample(5)"
   ]
  },
  {
   "cell_type": "code",
   "execution_count": 109,
   "metadata": {},
   "outputs": [
    {
     "data": {
      "text/html": [
       "<div>\n",
       "<style scoped>\n",
       "    .dataframe tbody tr th:only-of-type {\n",
       "        vertical-align: middle;\n",
       "    }\n",
       "\n",
       "    .dataframe tbody tr th {\n",
       "        vertical-align: top;\n",
       "    }\n",
       "\n",
       "    .dataframe thead th {\n",
       "        text-align: right;\n",
       "    }\n",
       "</style>\n",
       "<table border=\"1\" class=\"dataframe\">\n",
       "  <thead>\n",
       "    <tr style=\"text-align: right;\">\n",
       "      <th></th>\n",
       "      <th>target</th>\n",
       "      <th>target_id</th>\n",
       "    </tr>\n",
       "  </thead>\n",
       "  <tbody>\n",
       "    <tr>\n",
       "      <td>0</td>\n",
       "      <td>买房</td>\n",
       "      <td>0</td>\n",
       "    </tr>\n",
       "    <tr>\n",
       "      <td>1</td>\n",
       "      <td>租赁</td>\n",
       "      <td>1</td>\n",
       "    </tr>\n",
       "    <tr>\n",
       "      <td>2</td>\n",
       "      <td>咨询</td>\n",
       "      <td>2</td>\n",
       "    </tr>\n",
       "  </tbody>\n",
       "</table>\n",
       "</div>"
      ],
      "text/plain": [
       "  target  target_id\n",
       "0     买房          0\n",
       "1     租赁          1\n",
       "2     咨询          2"
      ]
     },
     "execution_count": 109,
     "metadata": {},
     "output_type": "execute_result"
    }
   ],
   "source": [
    "cat_id_df"
   ]
  },
  {
   "cell_type": "code",
   "execution_count": 110,
   "metadata": {},
   "outputs": [],
   "source": [
    "\n",
    "import jieba\n",
    "import re\n",
    "jieba.load_userdict('dict.txt')\n",
    "#定义删除除字母,数字，汉字以外的所有符号的函数\n",
    "def remove_punctuation(line):\n",
    "    line = str(line)\n",
    "    if line.strip()=='':\n",
    "        return ''\n",
    "    rule = re.compile(u\"[^a-zA-Z0-9\\u4E00-\\u9FA5]\")\n",
    "    line = rule.sub('',line)\n",
    "    return line\n",
    " \n",
    "def stopwordslist(filepath):  \n",
    "    stopwords = [line.strip() for line in open(filepath, 'r', encoding='utf-8').readlines()]  \n",
    "    return stopwords  \n",
    " \n",
    "#加载停用词\n",
    "stopwords = stopwordslist(\"stop_words.txt\")"
   ]
  },
  {
   "cell_type": "code",
   "execution_count": 111,
   "metadata": {},
   "outputs": [
    {
     "data": {
      "text/html": [
       "<div>\n",
       "<style scoped>\n",
       "    .dataframe tbody tr th:only-of-type {\n",
       "        vertical-align: middle;\n",
       "    }\n",
       "\n",
       "    .dataframe tbody tr th {\n",
       "        vertical-align: top;\n",
       "    }\n",
       "\n",
       "    .dataframe thead th {\n",
       "        text-align: right;\n",
       "    }\n",
       "</style>\n",
       "<table border=\"1\" class=\"dataframe\">\n",
       "  <thead>\n",
       "    <tr style=\"text-align: right;\">\n",
       "      <th></th>\n",
       "      <th>target</th>\n",
       "      <th>context</th>\n",
       "      <th>target_id</th>\n",
       "      <th>clean_content</th>\n",
       "    </tr>\n",
       "  </thead>\n",
       "  <tbody>\n",
       "    <tr>\n",
       "      <td>888</td>\n",
       "      <td>咨询</td>\n",
       "      <td>5年以下的二套房转卖卖房交多少税？</td>\n",
       "      <td>2</td>\n",
       "      <td>5年以下的二套房转卖卖房交多少税</td>\n",
       "    </tr>\n",
       "    <tr>\n",
       "      <td>139</td>\n",
       "      <td>买房</td>\n",
       "      <td>我想看总价1000萬元上下得新房</td>\n",
       "      <td>0</td>\n",
       "      <td>我想看总价1000萬元上下得新房</td>\n",
       "    </tr>\n",
       "    <tr>\n",
       "      <td>271</td>\n",
       "      <td>买房</td>\n",
       "      <td>我想mai大约W以里精装的新房</td>\n",
       "      <td>0</td>\n",
       "      <td>我想mai大约W以里精装的新房</td>\n",
       "    </tr>\n",
       "    <tr>\n",
       "      <td>987</td>\n",
       "      <td>咨询</td>\n",
       "      <td>采用委托收款方式缴存的单位，能否一次托收多个月份的住房公积金？</td>\n",
       "      <td>2</td>\n",
       "      <td>采用委托收款方式缴存的单位能否一次托收多个月份的住房公积金</td>\n",
       "    </tr>\n",
       "    <tr>\n",
       "      <td>1133</td>\n",
       "      <td>咨询</td>\n",
       "      <td>如何登录房改售房款和房改房维修资金网上业务系统？</td>\n",
       "      <td>2</td>\n",
       "      <td>如何登录房改售房款和房改房维修资金网上业务系统</td>\n",
       "    </tr>\n",
       "    <tr>\n",
       "      <td>227</td>\n",
       "      <td>买房</td>\n",
       "      <td>我想要买价值250精装二手房</td>\n",
       "      <td>0</td>\n",
       "      <td>我想要买价值250精装二手房</td>\n",
       "    </tr>\n",
       "    <tr>\n",
       "      <td>711</td>\n",
       "      <td>租赁</td>\n",
       "      <td>租房预估4500块钱上下次卧屋子</td>\n",
       "      <td>1</td>\n",
       "      <td>租房预估4500块钱上下次卧屋子</td>\n",
       "    </tr>\n",
       "    <tr>\n",
       "      <td>644</td>\n",
       "      <td>租赁</td>\n",
       "      <td>我想月底再租</td>\n",
       "      <td>1</td>\n",
       "      <td>我想月底再租</td>\n",
       "    </tr>\n",
       "    <tr>\n",
       "      <td>609</td>\n",
       "      <td>租赁</td>\n",
       "      <td>长租的那种</td>\n",
       "      <td>1</td>\n",
       "      <td>长租的那种</td>\n",
       "    </tr>\n",
       "    <tr>\n",
       "      <td>574</td>\n",
       "      <td>租赁</td>\n",
       "      <td>想找一找租房63507000以下上下精装得房子</td>\n",
       "      <td>1</td>\n",
       "      <td>想找一找租房63507000以下上下精装得房子</td>\n",
       "    </tr>\n",
       "  </tbody>\n",
       "</table>\n",
       "</div>"
      ],
      "text/plain": [
       "     target                          context  target_id  \\\n",
       "888      咨询                5年以下的二套房转卖卖房交多少税？          2   \n",
       "139      买房                 我想看总价1000萬元上下得新房          0   \n",
       "271      买房                  我想mai大约W以里精装的新房          0   \n",
       "987      咨询  采用委托收款方式缴存的单位，能否一次托收多个月份的住房公积金？          2   \n",
       "1133     咨询         如何登录房改售房款和房改房维修资金网上业务系统？          2   \n",
       "227      买房                   我想要买价值250精装二手房          0   \n",
       "711      租赁                 租房预估4500块钱上下次卧屋子          1   \n",
       "644      租赁                           我想月底再租          1   \n",
       "609      租赁                            长租的那种          1   \n",
       "574      租赁          想找一找租房63507000以下上下精装得房子          1   \n",
       "\n",
       "                      clean_content  \n",
       "888                5年以下的二套房转卖卖房交多少税  \n",
       "139                我想看总价1000萬元上下得新房  \n",
       "271                 我想mai大约W以里精装的新房  \n",
       "987   采用委托收款方式缴存的单位能否一次托收多个月份的住房公积金  \n",
       "1133        如何登录房改售房款和房改房维修资金网上业务系统  \n",
       "227                  我想要买价值250精装二手房  \n",
       "711                租房预估4500块钱上下次卧屋子  \n",
       "644                          我想月底再租  \n",
       "609                           长租的那种  \n",
       "574         想找一找租房63507000以下上下精装得房子  "
      ]
     },
     "execution_count": 111,
     "metadata": {},
     "output_type": "execute_result"
    }
   ],
   "source": [
    "#删除除字母,数字，汉字以外的所有符号\n",
    "df['clean_content'] = df['context'].apply(remove_punctuation)\n",
    "df.sample(10)"
   ]
  },
  {
   "cell_type": "code",
   "execution_count": 112,
   "metadata": {
    "scrolled": true
   },
   "outputs": [
    {
     "data": {
      "text/html": [
       "<div>\n",
       "<style scoped>\n",
       "    .dataframe tbody tr th:only-of-type {\n",
       "        vertical-align: middle;\n",
       "    }\n",
       "\n",
       "    .dataframe tbody tr th {\n",
       "        vertical-align: top;\n",
       "    }\n",
       "\n",
       "    .dataframe thead th {\n",
       "        text-align: right;\n",
       "    }\n",
       "</style>\n",
       "<table border=\"1\" class=\"dataframe\">\n",
       "  <thead>\n",
       "    <tr style=\"text-align: right;\">\n",
       "      <th></th>\n",
       "      <th>target</th>\n",
       "      <th>context</th>\n",
       "      <th>target_id</th>\n",
       "      <th>clean_content</th>\n",
       "      <th>cut_context</th>\n",
       "    </tr>\n",
       "  </thead>\n",
       "  <tbody>\n",
       "    <tr>\n",
       "      <td>1182</td>\n",
       "      <td>咨询</td>\n",
       "      <td>你的城市房租收入比是多少？</td>\n",
       "      <td>2</td>\n",
       "      <td>你的城市房租收入比是多少</td>\n",
       "      <td>城市 房租 收入 比是</td>\n",
       "    </tr>\n",
       "    <tr>\n",
       "      <td>1183</td>\n",
       "      <td>咨询</td>\n",
       "      <td>北京老人能投靠子女落户吗？怎么办理？</td>\n",
       "      <td>2</td>\n",
       "      <td>北京老人能投靠子女落户吗怎么办理</td>\n",
       "      <td>北京 老人 投靠 子女 落户 办理</td>\n",
       "    </tr>\n",
       "    <tr>\n",
       "      <td>1184</td>\n",
       "      <td>咨询</td>\n",
       "      <td>北京能办理夫妻投靠落户吗？怎么办理？</td>\n",
       "      <td>2</td>\n",
       "      <td>北京能办理夫妻投靠落户吗怎么办理</td>\n",
       "      <td>北京 办理 夫妻 投靠 落户 办理</td>\n",
       "    </tr>\n",
       "    <tr>\n",
       "      <td>1185</td>\n",
       "      <td>咨询</td>\n",
       "      <td>2017年环京限购政策一览</td>\n",
       "      <td>2</td>\n",
       "      <td>2017年环京限购政策一览</td>\n",
       "      <td>2017 年 环京 限购 政策 一览</td>\n",
       "    </tr>\n",
       "    <tr>\n",
       "      <td>1186</td>\n",
       "      <td>咨询</td>\n",
       "      <td>买商铺需要什么资格，要注意什么？</td>\n",
       "      <td>2</td>\n",
       "      <td>买商铺需要什么资格要注意什么</td>\n",
       "      <td>买 商铺 资格</td>\n",
       "    </tr>\n",
       "  </tbody>\n",
       "</table>\n",
       "</div>"
      ],
      "text/plain": [
       "     target             context  target_id     clean_content  \\\n",
       "1182     咨询       你的城市房租收入比是多少？          2      你的城市房租收入比是多少   \n",
       "1183     咨询  北京老人能投靠子女落户吗？怎么办理？          2  北京老人能投靠子女落户吗怎么办理   \n",
       "1184     咨询  北京能办理夫妻投靠落户吗？怎么办理？          2  北京能办理夫妻投靠落户吗怎么办理   \n",
       "1185     咨询       2017年环京限购政策一览          2     2017年环京限购政策一览   \n",
       "1186     咨询    买商铺需要什么资格，要注意什么？          2    买商铺需要什么资格要注意什么   \n",
       "\n",
       "             cut_context  \n",
       "1182         城市 房租 收入 比是  \n",
       "1183   北京 老人 投靠 子女 落户 办理  \n",
       "1184   北京 办理 夫妻 投靠 落户 办理  \n",
       "1185  2017 年 环京 限购 政策 一览  \n",
       "1186             买 商铺 资格  "
      ]
     },
     "execution_count": 112,
     "metadata": {},
     "output_type": "execute_result"
    }
   ],
   "source": [
    "#分词，并过滤停用词\n",
    "df['cut_context'] = df['clean_content'].apply(lambda x: \" \".join([w for w in list(jieba.cut(x)) if w not in stopwords]))\n",
    "df.tail()"
   ]
  },
  {
   "cell_type": "code",
   "execution_count": 1,
   "metadata": {},
   "outputs": [
    {
     "ename": "NameError",
     "evalue": "name 'df' is not defined",
     "output_type": "error",
     "traceback": [
      "\u001b[1;31m---------------------------------------------------------------------------\u001b[0m",
      "\u001b[1;31mNameError\u001b[0m                                 Traceback (most recent call last)",
      "\u001b[1;32m<ipython-input-1-2aa0982f347e>\u001b[0m in \u001b[0;36m<module>\u001b[1;34m\u001b[0m\n\u001b[0;32m      2\u001b[0m \u001b[1;32mfrom\u001b[0m \u001b[0msklearn\u001b[0m\u001b[1;33m.\u001b[0m\u001b[0mpreprocessing\u001b[0m \u001b[1;32mimport\u001b[0m \u001b[0mLabelEncoder\u001b[0m\u001b[1;33m\u001b[0m\u001b[1;33m\u001b[0m\u001b[0m\n\u001b[0;32m      3\u001b[0m \u001b[0mlabelEncoder\u001b[0m \u001b[1;33m=\u001b[0m \u001b[0mLabelEncoder\u001b[0m\u001b[1;33m(\u001b[0m\u001b[1;33m)\u001b[0m\u001b[1;33m\u001b[0m\u001b[1;33m\u001b[0m\u001b[0m\n\u001b[1;32m----> 4\u001b[1;33m \u001b[0my\u001b[0m \u001b[1;33m=\u001b[0m \u001b[0mlabelEncoder\u001b[0m\u001b[1;33m.\u001b[0m\u001b[0mfit_transform\u001b[0m\u001b[1;33m(\u001b[0m\u001b[0mdf\u001b[0m\u001b[1;33m[\u001b[0m\u001b[1;34m'target'\u001b[0m\u001b[1;33m]\u001b[0m\u001b[1;33m)\u001b[0m\u001b[1;33m\u001b[0m\u001b[1;33m\u001b[0m\u001b[0m\n\u001b[0m\u001b[0;32m      5\u001b[0m \u001b[0mtfidf\u001b[0m \u001b[1;33m=\u001b[0m \u001b[0mTfidfVectorizer\u001b[0m\u001b[1;33m(\u001b[0m\u001b[0mnorm\u001b[0m\u001b[1;33m=\u001b[0m\u001b[1;34m'l2'\u001b[0m\u001b[1;33m,\u001b[0m \u001b[0mngram_range\u001b[0m\u001b[1;33m=\u001b[0m\u001b[1;33m(\u001b[0m\u001b[1;36m1\u001b[0m\u001b[1;33m,\u001b[0m \u001b[1;36m3\u001b[0m\u001b[1;33m)\u001b[0m\u001b[1;33m)\u001b[0m\u001b[1;33m\u001b[0m\u001b[1;33m\u001b[0m\u001b[0m\n\u001b[0;32m      6\u001b[0m \u001b[0mfeatures\u001b[0m \u001b[1;33m=\u001b[0m \u001b[0mtfidf\u001b[0m\u001b[1;33m.\u001b[0m\u001b[0mfit_transform\u001b[0m\u001b[1;33m(\u001b[0m\u001b[0mdf\u001b[0m\u001b[1;33m.\u001b[0m\u001b[0mcut_context\u001b[0m\u001b[1;33m)\u001b[0m\u001b[1;33m\u001b[0m\u001b[1;33m\u001b[0m\u001b[0m\n",
      "\u001b[1;31mNameError\u001b[0m: name 'df' is not defined"
     ]
    }
   ],
   "source": [
    "from sklearn.feature_extraction.text import TfidfVectorizer\n",
    "tfidf = TfidfVectorizer(norm='l2', ngram_range=(1, 3))\n",
    "features = tfidf.fit_transform(df.cut_context)\n",
    "labels = df.target_id\n",
    "print(features.shape)\n",
    "# print('-----------------------------')\n",
    "# print(features)"
   ]
  },
  {
   "cell_type": "code",
   "execution_count": 114,
   "metadata": {},
   "outputs": [
    {
     "data": {
      "text/html": [
       "<div>\n",
       "<style scoped>\n",
       "    .dataframe tbody tr th:only-of-type {\n",
       "        vertical-align: middle;\n",
       "    }\n",
       "\n",
       "    .dataframe tbody tr th {\n",
       "        vertical-align: top;\n",
       "    }\n",
       "\n",
       "    .dataframe thead th {\n",
       "        text-align: right;\n",
       "    }\n",
       "</style>\n",
       "<table border=\"1\" class=\"dataframe\">\n",
       "  <thead>\n",
       "    <tr style=\"text-align: right;\">\n",
       "      <th></th>\n",
       "      <th>target</th>\n",
       "      <th>target_id</th>\n",
       "    </tr>\n",
       "  </thead>\n",
       "  <tbody>\n",
       "    <tr>\n",
       "      <td>0</td>\n",
       "      <td>买房</td>\n",
       "      <td>0</td>\n",
       "    </tr>\n",
       "    <tr>\n",
       "      <td>1</td>\n",
       "      <td>租赁</td>\n",
       "      <td>1</td>\n",
       "    </tr>\n",
       "    <tr>\n",
       "      <td>2</td>\n",
       "      <td>咨询</td>\n",
       "      <td>2</td>\n",
       "    </tr>\n",
       "  </tbody>\n",
       "</table>\n",
       "</div>"
      ],
      "text/plain": [
       "  target  target_id\n",
       "0     买房          0\n",
       "1     租赁          1\n",
       "2     咨询          2"
      ]
     },
     "execution_count": 114,
     "metadata": {},
     "output_type": "execute_result"
    }
   ],
   "source": [
    "cat_id_df"
   ]
  },
  {
   "cell_type": "code",
   "execution_count": 115,
   "metadata": {},
   "outputs": [
    {
     "name": "stdout",
     "output_type": "stream",
     "text": [
      "# '买房':\n",
      "  . Most correlated unigrams:\n",
      "       . 400wrmb\n",
      "        800\n",
      "        想要\n",
      "        学区\n",
      "        750w\n",
      "        zu\n",
      "        块钱\n",
      "        zufang\n",
      "        635\n",
      "        900w\n",
      "        提取\n",
      "        750\n",
      "        一点\n",
      "        租个\n",
      "        请问\n",
      "        150\n",
      "        350\n",
      "        办理\n",
      "        250\n",
      "        950\n",
      "        精装\n",
      "        100\n",
      "        900\n",
      "        整租\n",
      "        钱能\n",
      "        550\n",
      "        700\n",
      "        简装\n",
      "        500\n",
      "        450\n",
      "        万左右\n",
      "        买房子\n",
      "        300\n",
      "        850\n",
      "        200\n",
      "        总价\n",
      "        毛坯\n",
      "        租房\n",
      "        我要\n",
      "        住房\n",
      "        公积金\n",
      "        650\n",
      "        以里\n",
      "        买个\n",
      "        mai\n",
      "        maifang\n",
      "        万元\n",
      "        萬元\n",
      "        rmb\n",
      "        人民币\n",
      "  . Most correlated bigrams:\n",
      "       . 900 萬元\n",
      "        900 万元\n",
      "        精装 二手房\n",
      "        想要 maifang\n",
      "        买个 价钱\n",
      "        想要 mai\n",
      "        公积金 住房贷款\n",
      "        人民币 新房\n",
      "        买个 估计\n",
      "        萬元 毛坯\n",
      "        200 万元\n",
      "        mai 估计\n",
      "        maifang 价值\n",
      "        计划 maifang\n",
      "        maifang 总价\n",
      "        maifang 价钱\n",
      "        万元 毛坯\n",
      "        万元 精装\n",
      "        总价 500\n",
      "        maifang 估计\n",
      "        计划 买个\n",
      "        mai 价值\n",
      "        maifang 预估\n",
      "        850 rmb\n",
      "        精装 公寓\n",
      "        以里 毛坯\n",
      "        mai 预估\n",
      "        毛坯 屋子\n",
      "        人民币 以里\n",
      "        mai 价钱\n",
      "        买个 预估\n",
      "        650 万元\n",
      "        人民币 以内\n",
      "        想要 买个\n",
      "        rmb 以内\n",
      "        人民币 毛坯\n",
      "        以里 精装\n",
      "        rmb 以里\n",
      "        650 萬元\n",
      "        以里 简装\n",
      "        万元 人民币\n",
      "        rmb 简装\n",
      "        人民币 精装\n",
      "        rmb 精装\n",
      "        rmb 毛坯\n",
      "        萬元 人民币\n",
      "        住房 公积金\n",
      "        人民币 简装\n",
      "        萬元 rmb\n",
      "        万元 rmb\n",
      "  . Most correlated trerams:\n",
      "       . rmb 精装 新房\n",
      "        650 万元 人民币\n",
      "        办理 住房 公积金\n",
      "        人民币 以内 毛坯\n",
      "        萬元 人民币 以内\n",
      "        550 萬元 人民币\n",
      "        900 萬元 rmb\n",
      "        450w 人民币 简装\n",
      "        人民币 简装 别墅\n",
      "        650 万元 rmb\n",
      "        900 万元 人民币\n",
      "        想要 mai 预估\n",
      "        计划 买个 预估\n",
      "        万元 人民币 毛坯\n",
      "        以里 精装 屋子\n",
      "        人民币 以里 精装\n",
      "        计划 医院 一院\n",
      "        万元 rmb 以里\n",
      "        万元 人民币 以里\n",
      "        rmb 以里 毛坯\n",
      "        人民币 毛坯 公寓\n",
      "        250w 人民币 以里\n",
      "        万元 rmb 简装\n",
      "        萬元 rmb 精装\n",
      "        200 万元 rmb\n",
      "        人民币 以里 简装\n",
      "        人民币 精装 公寓\n",
      "        网上 业务 系统\n",
      "        650 萬元 人民币\n",
      "        价钱 650 萬元\n",
      "        rmb 简装 高层\n",
      "        150 万元 rmb\n",
      "        萬元 rmb 以内\n",
      "        万元 人民币 简装\n",
      "        提取 住房 公积金\n",
      "        maifang 价值 950wrmb\n",
      "        rmb 以内 毛坯\n",
      "        萬元 rmb 以里\n",
      "        萬元 人民币 简装\n",
      "        650 萬元 rmb\n",
      "        人民币 以内 精装\n",
      "        萬元 rmb 毛坯\n",
      "        100 萬元 rmb\n",
      "        rmb 以里 简装\n",
      "        萬元 人民币 精装\n",
      "        住房 公积金 住房贷款\n",
      "        rmb 以内 精装\n",
      "        萬元 rmb 简装\n",
      "        万元 rmb 精装\n",
      "        万元 rmb 毛坯\n",
      "# '咨询':\n",
      "  . Most correlated unigrams:\n",
      "       . 购房\n",
      "        整租\n",
      "        别墅\n",
      "        mai\n",
      "        职工\n",
      "        不动产\n",
      "        高层\n",
      "        合同\n",
      "        maifang\n",
      "        联名卡\n",
      "        万元\n",
      "        总价\n",
      "        萬元\n",
      "        想要\n",
      "        估计\n",
      "        政策\n",
      "        计划\n",
      "        rmb\n",
      "        价钱\n",
      "        维修\n",
      "        价值\n",
      "        房地产\n",
      "        还款\n",
      "        北京\n",
      "        人民币\n",
      "        变更\n",
      "        情况\n",
      "        预估\n",
      "        以内\n",
      "        流程\n",
      "        资金\n",
      "        系统\n",
      "        查询\n",
      "        注意事项\n",
      "        申请\n",
      "        网上\n",
      "        毛坯\n",
      "        业务\n",
      "        简装\n",
      "        卖房\n",
      "        住房贷款\n",
      "        精装\n",
      "        单位\n",
      "        缴存\n",
      "        过户\n",
      "        贷款\n",
      "        提取\n",
      "        办理\n",
      "        住房\n",
      "        公积金\n",
      "  . Most correlated bigrams:\n",
      "       . 公积金 贷款\n",
      "        售房 单位\n",
      "        流程 注意事项\n",
      "        以内 毛坯\n",
      "        卖房 流程\n",
      "        房地产 开发商\n",
      "        新房 认购\n",
      "        人民币 简装\n",
      "        北京市 行政区域\n",
      "        单位 办理\n",
      "        办理 单位\n",
      "        登记 开户\n",
      "        开户 缴存\n",
      "        以内 精装\n",
      "        组合 贷款\n",
      "        公积金 账户\n",
      "        单位 经办人\n",
      "        公积金 提取\n",
      "        萬元 rmb\n",
      "        约定 提取\n",
      "        万元 rmb\n",
      "        过户 费用\n",
      "        职工 住房\n",
      "        租房 押金\n",
      "        还款 方式\n",
      "        自由 还款\n",
      "        卖房 合同\n",
      "        房改 售房款\n",
      "        缴存 住房\n",
      "        提取 情况\n",
      "        查询 个人住房\n",
      "        专项 维修\n",
      "        贷款 买房\n",
      "        贷款 政策\n",
      "        缴存 提取\n",
      "        查询 住房\n",
      "        共有 产权\n",
      "        房改房 维修\n",
      "        个人住房 公积金\n",
      "        申请 住房\n",
      "        公积金 联名卡\n",
      "        公积金 网上\n",
      "        办理 住房\n",
      "        公积金 缴存\n",
      "        维修 资金\n",
      "        业务 系统\n",
      "        提取 住房\n",
      "        网上 业务\n",
      "        公积金 住房贷款\n",
      "        住房 公积金\n",
      "  . Most correlated trerams:\n",
      "       . 发票 提取 住房\n",
      "        公积金 提取 业务\n",
      "        办理 职工 住房\n",
      "        情况 申请 住房\n",
      "        租房 申请 条件\n",
      "        北京 住房 公积金\n",
      "        住房 公积金 查询\n",
      "        公积金 住房贷款 办理\n",
      "        业务 系统 变更\n",
      "        公积金 住房贷款 逾期\n",
      "        贷款 买房 流程\n",
      "        住房 公积金 贷款\n",
      "        离婚 住房 公积金\n",
      "        住房 公积金 单位\n",
      "        商品住宅 专项 维修\n",
      "        房改 售房款 支取\n",
      "        住房 公积金 委托收款\n",
      "        办理 购房 提取\n",
      "        公积金 住房贷款 信息\n",
      "        采用 自由 还款\n",
      "        住宅 专项 维修\n",
      "        业务 系统 办理\n",
      "        购买 北京市 行政区域\n",
      "        套房 贷款 政策\n",
      "        公积金 登记 开户\n",
      "        住房 公积金 登记\n",
      "        资金 网上 业务\n",
      "        维修 资金 网上\n",
      "        住房 公积金 提取\n",
      "        登记 开户 缴存\n",
      "        住房 公积金 账户\n",
      "        自由 还款 方式\n",
      "        职工 住房 公积金\n",
      "        缴存 住房 公积金\n",
      "        个人住房 公积金 缴存\n",
      "        查询 个人住房 公积金\n",
      "        缴存 提取 情况\n",
      "        专项 维修 资金\n",
      "        公积金 缴存 提取\n",
      "        住房 公积金 缴存\n",
      "        查询 住房 公积金\n",
      "        房改房 维修 资金\n",
      "        申请 住房 公积金\n",
      "        公积金 网上 业务\n",
      "        住房 公积金 联名卡\n",
      "        住房 公积金 网上\n",
      "        办理 住房 公积金\n",
      "        网上 业务 系统\n",
      "        提取 住房 公积金\n",
      "        住房 公积金 住房贷款\n",
      "# '租赁':\n",
      "  . Most correlated unigrams:\n",
      "       . 下次\n",
      "        买房\n",
      "        搜下\n",
      "        贷款\n",
      "        以里\n",
      "        买个\n",
      "        卧得\n",
      "        提取\n",
      "        独卫得\n",
      "        mai\n",
      "        三个\n",
      "        办理\n",
      "        7000\n",
      "        maifang\n",
      "        万元\n",
      "        5500\n",
      "        萬元\n",
      "        4000\n",
      "        主卧带\n",
      "        短租\n",
      "        6500\n",
      "        1000\n",
      "        一万\n",
      "        插间\n",
      "        rmb\n",
      "        租房\n",
      "        人民币\n",
      "        2000\n",
      "        8500\n",
      "        3000\n",
      "        2500\n",
      "        独卫\n",
      "        长租\n",
      "        9000\n",
      "        3500\n",
      "        4500\n",
      "        5000\n",
      "        7500\n",
      "        住房\n",
      "        8000\n",
      "        公积金\n",
      "        9500\n",
      "        合租\n",
      "        主卧\n",
      "        6350\n",
      "        zu\n",
      "        块钱\n",
      "        zufang\n",
      "        租个\n",
      "        整租\n",
      "  . Most correlated bigrams:\n",
      "       . zufang 估计\n",
      "        主卧 阳台\n",
      "        3500 以内\n",
      "        打算 zufang\n",
      "        预估 9000\n",
      "        9000 块钱\n",
      "        租个 价值\n",
      "        块钱 别墅\n",
      "        搜索 zu\n",
      "        1000 简装\n",
      "        8000 块钱\n",
      "        价钱 4500\n",
      "        萬元 rmb\n",
      "        zufang 价值\n",
      "        计划 zufang\n",
      "        万元 rmb\n",
      "        1000 精装\n",
      "        公积金 住房贷款\n",
      "        打算 租个\n",
      "        zufang 价钱\n",
      "        一万 以内\n",
      "        打算 租房\n",
      "        6350 精装\n",
      "        zu 估计\n",
      "        价钱 8000\n",
      "        块钱 精装\n",
      "        价值 9000\n",
      "        租房 1000\n",
      "        1000 以内\n",
      "        9000 以内\n",
      "        租个 1000\n",
      "        租房 估计\n",
      "        计划 租个\n",
      "        块钱 毛坯\n",
      "        租房 预估\n",
      "        zu 预估\n",
      "        6350 块钱\n",
      "        租房 价钱\n",
      "        主卧带 独卫\n",
      "        租房 价值\n",
      "        8500 精装\n",
      "        zufang 预估\n",
      "        zufang 9500\n",
      "        租个 预估\n",
      "        5500 简装\n",
      "        4500 精装\n",
      "        zu 价钱\n",
      "        预估 3500\n",
      "        块钱 简装\n",
      "        住房 公积金\n",
      "  . Most correlated trerams:\n",
      "       . 1000 精装 屋子\n",
      "        预估 简装 高层\n",
      "        一万 以内 精装\n",
      "        预估 4500 块钱\n",
      "        租个 预估 4500\n",
      "        块钱 精装 新房\n",
      "        打算 zufang 价钱\n",
      "        计划 价值 2500\n",
      "        计划 租个 4000\n",
      "        zu 估计 7500\n",
      "        瞧一瞧 zu 预估\n",
      "        价值 一万 以内\n",
      "        块钱 毛坯 别墅\n",
      "        块钱 毛坯 公寓\n",
      "        租房 估计 8500\n",
      "        搜索 zu 价钱\n",
      "        计划 zufang 预估\n",
      "        公积金 网上 业务\n",
      "        住房 公积金 联名卡\n",
      "        打算 租房 估计\n",
      "        6350 块钱 简装\n",
      "        块钱 简装 别墅\n",
      "        zu 价钱 4500\n",
      "        一万 以内 毛坯\n",
      "        7500 块钱 简装\n",
      "        住房 公积金 网上\n",
      "        价值 4500 毛坯\n",
      "        租房 预估 9000\n",
      "        预估 9000 简装\n",
      "        总价 9500 屋子\n",
      "        以内 主卧 高层\n",
      "        价值 9500 毛坯\n",
      "        办理 住房 公积金\n",
      "        1000 以内 主卧\n",
      "        zu 预估 3000\n",
      "        预估 3000 精装\n",
      "        7500 以内 精装\n",
      "        租个 1000 简装\n",
      "        价钱 4500 精装\n",
      "        租房 1000 以内\n",
      "        6350 块钱 精装\n",
      "        搜下 预估 3500\n",
      "        网上 业务 系统\n",
      "        总价 6350 块钱\n",
      "        zufang 价钱 2500\n",
      "        块钱 简装 得房\n",
      "        租房 估计 8000\n",
      "        提取 住房 公积金\n",
      "        预估 3500 简装\n",
      "        住房 公积金 住房贷款\n"
     ]
    }
   ],
   "source": [
    "from sklearn.feature_selection import chi2\n",
    "import numpy as np\n",
    " \n",
    "N = 50\n",
    "for target, target_id in sorted(cat_to_id.items()):\n",
    "    features_chi2 = chi2(features, labels == target_id)\n",
    "    indices = np.argsort(features_chi2[0])\n",
    "    feature_names = np.array(tfidf.get_feature_names())[indices]\n",
    "    \n",
    "    unigrams = [v for v in feature_names if len(v.split(' ')) == 1]\n",
    "    bigrams = [v for v in feature_names if len(v.split(' ')) == 2]\n",
    "    tregrams = [v for v in feature_names if len(v.split(' ')) == 3]\n",
    "    print(\"# '{}':\".format(target))\n",
    "    \n",
    "    print(\"  . Most correlated unigrams:\\n       . {}\".format('\\n        '.join(unigrams[-N:])))\n",
    "    print(\"  . Most correlated bigrams:\\n       . {}\".format('\\n        '.join(bigrams[-N:])))\n",
    "    print(\"  . Most correlated trerams:\\n       . {}\".format('\\n        '.join(tregrams[-N:])))"
   ]
  },
  {
   "cell_type": "code",
   "execution_count": 116,
   "metadata": {},
   "outputs": [],
   "source": [
    "from sklearn.model_selection import train_test_split\n",
    "from sklearn.feature_extraction.text import CountVectorizer\n",
    "from sklearn.feature_extraction.text import TfidfTransformer\n",
    "from sklearn.feature_extraction.text import TfidfVectorizer\n",
    "from sklearn.naive_bayes import MultinomialNB\n",
    "X_train, X_test, y_train, y_test = train_test_split(df['cut_context'], df['target_id'],test_size=0.1,random_state = 0)\n",
    "#count_vect = CountVectorizer()\n",
    "#X_train_counts = count_vect.fit_transform(X_train)\n",
    " \n",
    "#tfidf_transformer = TfidfTransformer()\n",
    "#X_train_tfidf = tfidf_transformer.fit_transform(X_train_counts)\n",
    "vec = TfidfVectorizer(norm='l2', ngram_range=(1, 3))\n",
    "X_train_tf= vec.fit_transform(X_train)\n",
    "nb_clf = MultinomialNB(alpha=0.1,fit_prior=True,class_prior=None)\n",
    "nb_clf.fit(X_train_tf, y_train)\n",
    "nb_y_pred = nb_clf.predict(vec.transform(X_test))"
   ]
  },
  {
   "cell_type": "code",
   "execution_count": 117,
   "metadata": {},
   "outputs": [],
   "source": [
    "def nb_myPredict(sec):\n",
    "    format_sec=\" \".join([w for w in list(jieba.cut(remove_punctuation(sec))) if w not in stopwords])\n",
    "    pred_cat_id=nb_clf.predict(vec.transform([format_sec]))\n",
    "    print(id_to_cat[pred_cat_id[0]])"
   ]
  },
  {
   "cell_type": "code",
   "execution_count": 120,
   "metadata": {},
   "outputs": [
    {
     "name": "stdout",
     "output_type": "stream",
     "text": [
      "买房\n"
     ]
    }
   ],
   "source": [
    "nb_myPredict(\"租\")"
   ]
  },
  {
   "cell_type": "code",
   "execution_count": 121,
   "metadata": {
    "scrolled": true
   },
   "outputs": [
    {
     "name": "stdout",
     "output_type": "stream",
     "text": [
      "accuracy 0.9243697478991597\n",
      "              precision    recall  f1-score   support\n",
      "\n",
      "          买房       0.82      0.94      0.88        34\n",
      "          租赁       1.00      0.85      0.92        46\n",
      "          咨询       0.95      1.00      0.97        39\n",
      "\n",
      "    accuracy                           0.92       119\n",
      "   macro avg       0.92      0.93      0.92       119\n",
      "weighted avg       0.93      0.92      0.92       119\n",
      "\n"
     ]
    }
   ],
   "source": [
    "from sklearn.metrics import classification_report\n",
    "from sklearn.model_selection import train_test_split\n",
    "from sklearn.metrics import accuracy_score, confusion_matrix\n",
    "print('accuracy %s' % accuracy_score(nb_y_pred, y_test))\n",
    "print(classification_report(y_test, nb_y_pred,target_names=cat_id_df['target'].values))"
   ]
  },
  {
   "cell_type": "code",
   "execution_count": 122,
   "metadata": {},
   "outputs": [],
   "source": [
    "from sklearn.linear_model import LogisticRegression\n",
    "from xgboost import XGBClassifier\n",
    "from sklearn.svm import LinearSVC\n"
   ]
  },
  {
   "cell_type": "markdown",
   "metadata": {},
   "source": [
    "# 逻辑回归"
   ]
  },
  {
   "cell_type": "code",
   "execution_count": 123,
   "metadata": {},
   "outputs": [],
   "source": [
    "lr_clf = LogisticRegression(C=1.0, \n",
    "                            class_weight='balanced', \n",
    "                            dual=False, \n",
    "                            fit_intercept=False,\n",
    "                            max_iter=10000,\n",
    "                            multi_class='ovr', \n",
    "                            n_jobs=-1, \n",
    "                            penalty='l2', \n",
    "                            solver='lbfgs',\n",
    "                            random_state=0, \n",
    "                            tol=0.0001)"
   ]
  },
  {
   "cell_type": "code",
   "execution_count": 124,
   "metadata": {},
   "outputs": [
    {
     "data": {
      "text/plain": [
       "LogisticRegression(C=1.0, class_weight='balanced', dual=False,\n",
       "                   fit_intercept=False, intercept_scaling=1, l1_ratio=None,\n",
       "                   max_iter=10000, multi_class='ovr', n_jobs=-1, penalty='l2',\n",
       "                   random_state=0, solver='lbfgs', tol=0.0001, verbose=0,\n",
       "                   warm_start=False)"
      ]
     },
     "execution_count": 124,
     "metadata": {},
     "output_type": "execute_result"
    }
   ],
   "source": [
    "lr_clf.fit(X_train_tf, y_train)"
   ]
  },
  {
   "cell_type": "code",
   "execution_count": 125,
   "metadata": {},
   "outputs": [],
   "source": [
    "lr_y_pred = lr_clf.predict(vec.transform(X_test))"
   ]
  },
  {
   "cell_type": "code",
   "execution_count": 126,
   "metadata": {},
   "outputs": [
    {
     "name": "stdout",
     "output_type": "stream",
     "text": [
      "accuracy 0.907563025210084\n",
      "              precision    recall  f1-score   support\n",
      "\n",
      "          买房       0.78      0.94      0.85        34\n",
      "          租赁       0.97      0.83      0.89        46\n",
      "          咨询       0.97      0.97      0.97        39\n",
      "\n",
      "    accuracy                           0.91       119\n",
      "   macro avg       0.91      0.91      0.91       119\n",
      "weighted avg       0.92      0.91      0.91       119\n",
      "\n"
     ]
    }
   ],
   "source": [
    "print('accuracy %s' % accuracy_score(lr_y_pred, y_test))\n",
    "print(classification_report(y_test, lr_y_pred,target_names=cat_id_df['target'].values))"
   ]
  },
  {
   "cell_type": "code",
   "execution_count": 127,
   "metadata": {},
   "outputs": [],
   "source": [
    "def lr_myPredict(sec):\n",
    "    format_sec=\" \".join([w for w in list(jieba.cut(remove_punctuation(sec))) if w not in stopwords])\n",
    "    pred_cat_id=lr_clf.predict(vec.transform([format_sec]))\n",
    "    print(id_to_cat[pred_cat_id[0]])"
   ]
  },
  {
   "cell_type": "code",
   "execution_count": 128,
   "metadata": {},
   "outputs": [
    {
     "name": "stdout",
     "output_type": "stream",
     "text": [
      "买房\n"
     ]
    }
   ],
   "source": [
    "lr_myPredict('租')"
   ]
  },
  {
   "cell_type": "markdown",
   "metadata": {},
   "source": [
    "# 支持向量机"
   ]
  },
  {
   "cell_type": "code",
   "execution_count": 129,
   "metadata": {},
   "outputs": [],
   "source": [
    "sv_clf = LinearSVC(C=0.1,                                     \n",
    "                   class_weight=None,       \n",
    "                   fit_intercept=False,       \n",
    "                   loss='squared_hinge',    \n",
    "                   max_iter=10000,\n",
    "                   multi_class='ovr',       \n",
    "                   penalty='l2',        \n",
    "                   random_state=2019, \n",
    "                   tol=0.0001)"
   ]
  },
  {
   "cell_type": "code",
   "execution_count": 130,
   "metadata": {},
   "outputs": [
    {
     "data": {
      "text/plain": [
       "LinearSVC(C=0.1, class_weight=None, dual=True, fit_intercept=False,\n",
       "          intercept_scaling=1, loss='squared_hinge', max_iter=10000,\n",
       "          multi_class='ovr', penalty='l2', random_state=2019, tol=0.0001,\n",
       "          verbose=0)"
      ]
     },
     "execution_count": 130,
     "metadata": {},
     "output_type": "execute_result"
    }
   ],
   "source": [
    "sv_clf.fit(X_train_tf, y_train)"
   ]
  },
  {
   "cell_type": "code",
   "execution_count": 131,
   "metadata": {},
   "outputs": [],
   "source": [
    "sv_y_pred = sv_clf.predict(vec.transform(X_test))"
   ]
  },
  {
   "cell_type": "code",
   "execution_count": 132,
   "metadata": {},
   "outputs": [
    {
     "name": "stdout",
     "output_type": "stream",
     "text": [
      "accuracy 0.907563025210084\n",
      "              precision    recall  f1-score   support\n",
      "\n",
      "          买房       0.78      0.94      0.85        34\n",
      "          租赁       0.97      0.83      0.89        46\n",
      "          咨询       0.97      0.97      0.97        39\n",
      "\n",
      "    accuracy                           0.91       119\n",
      "   macro avg       0.91      0.91      0.91       119\n",
      "weighted avg       0.92      0.91      0.91       119\n",
      "\n"
     ]
    }
   ],
   "source": [
    "print('accuracy %s' % accuracy_score(sv_y_pred, y_test))\n",
    "print(classification_report(y_test, sv_y_pred,target_names=cat_id_df['target'].values))"
   ]
  },
  {
   "cell_type": "code",
   "execution_count": 133,
   "metadata": {},
   "outputs": [],
   "source": [
    "def sv_myPredict(sec):\n",
    "    format_sec=\" \".join([w for w in list(jieba.cut(remove_punctuation(sec))) if w not in stopwords])\n",
    "    pred_cat_id=sv_clf.predict(vec.transform([format_sec]))\n",
    "    print(id_to_cat[pred_cat_id[0]])"
   ]
  },
  {
   "cell_type": "code",
   "execution_count": 134,
   "metadata": {},
   "outputs": [
    {
     "name": "stdout",
     "output_type": "stream",
     "text": [
      "买房\n"
     ]
    }
   ],
   "source": [
    "sv_myPredict(\"租\")"
   ]
  },
  {
   "cell_type": "markdown",
   "metadata": {},
   "source": [
    "# xgboost"
   ]
  },
  {
   "cell_type": "code",
   "execution_count": 89,
   "metadata": {},
   "outputs": [],
   "source": [
    "xgb_clf = XGBClassifier(learning_rate=0.01,        #学习率\n",
    "                        n_estimators=1000,          # 树的个数--1000棵树建立xgboost\n",
    "                        max_depth=6,             # 树的深度\n",
    "                        min_child_weight=1,        # 叶子节点最小权重\n",
    "                        gamma=0.,                  # 惩罚项中叶子结点个数前的参数\n",
    "                        subsample=0.8,             # 随机选择80%样本建立决策树\n",
    "                        colsample_btree=0.8,       # 随机选择80%特征建立决策树\n",
    "                        objective='multi:softmax', # 指定损失函数\n",
    "                        colsample_bynode=1,        #每个节点（拆分）的列的子样本比率\n",
    "                        colsample_bylevel=1,       #构建每一层时，列采样率 \n",
    "                        nthread=20,                #并行线程数\n",
    "                        random_state=2019)"
   ]
  },
  {
   "cell_type": "code",
   "execution_count": 90,
   "metadata": {},
   "outputs": [
    {
     "data": {
      "text/plain": [
       "XGBClassifier(base_score=0.5, booster='gbtree', colsample_btree=0.8,\n",
       "              colsample_bylevel=1, colsample_bynode=1, colsample_bytree=1,\n",
       "              gamma=0.0, learning_rate=0.01, max_delta_step=0, max_depth=6,\n",
       "              min_child_weight=1, missing=None, n_estimators=1000, n_jobs=1,\n",
       "              nthread=20, objective='multi:softprob', random_state=2019,\n",
       "              reg_alpha=0, reg_lambda=1, scale_pos_weight=1, seed=None,\n",
       "              silent=None, subsample=0.8, verbosity=1)"
      ]
     },
     "execution_count": 90,
     "metadata": {},
     "output_type": "execute_result"
    }
   ],
   "source": [
    "xgb_clf.fit(X_train_tf,y_train)"
   ]
  },
  {
   "cell_type": "code",
   "execution_count": 91,
   "metadata": {},
   "outputs": [],
   "source": [
    "xgb_y_pred = xgb_clf.predict(vec.transform(X_test))"
   ]
  },
  {
   "cell_type": "code",
   "execution_count": 92,
   "metadata": {},
   "outputs": [
    {
     "name": "stdout",
     "output_type": "stream",
     "text": [
      "accuracy 0.7563025210084033\n",
      "              precision    recall  f1-score   support\n",
      "\n",
      "          买房       0.78      0.74      0.76        34\n",
      "          租赁       0.91      0.63      0.74        46\n",
      "          咨询       0.65      0.92      0.77        39\n",
      "\n",
      "    accuracy                           0.76       119\n",
      "   macro avg       0.78      0.76      0.76       119\n",
      "weighted avg       0.79      0.76      0.75       119\n",
      "\n"
     ]
    }
   ],
   "source": [
    "print('accuracy %s' % accuracy_score(xgb_y_pred, y_test))\n",
    "print(classification_report(y_test, xgb_y_pred,target_names=cat_id_df['target'].values))"
   ]
  },
  {
   "cell_type": "code",
   "execution_count": 93,
   "metadata": {},
   "outputs": [],
   "source": [
    "def xgb_myPredict(sec):\n",
    "    format_sec=\" \".join([w for w in list(jieba.cut(remove_punctuation(sec))) if w not in stopwords])\n",
    "    pred_cat_id=xgb_clf.predict(vec.transform([format_sec]))\n",
    "    print(id_to_cat[pred_cat_id[0]])"
   ]
  },
  {
   "cell_type": "code",
   "execution_count": 95,
   "metadata": {},
   "outputs": [
    {
     "name": "stdout",
     "output_type": "stream",
     "text": [
      "咨询\n"
     ]
    }
   ],
   "source": [
    "xgb_myPredict(\"租\")"
   ]
  },
  {
   "cell_type": "code",
   "execution_count": null,
   "metadata": {},
   "outputs": [],
   "source": []
  },
  {
   "cell_type": "code",
   "execution_count": null,
   "metadata": {},
   "outputs": [],
   "source": []
  },
  {
   "cell_type": "code",
   "execution_count": null,
   "metadata": {},
   "outputs": [],
   "source": []
  }
 ],
 "metadata": {
  "kernelspec": {
   "display_name": "Python 3",
   "language": "python",
   "name": "python3"
  },
  "language_info": {
   "codemirror_mode": {
    "name": "ipython",
    "version": 3
   },
   "file_extension": ".py",
   "mimetype": "text/x-python",
   "name": "python",
   "nbconvert_exporter": "python",
   "pygments_lexer": "ipython3",
   "version": "3.7.4"
  }
 },
 "nbformat": 4,
 "nbformat_minor": 2
}
