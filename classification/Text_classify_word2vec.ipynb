{
 "cells": [
  {
   "cell_type": "code",
   "execution_count": 1,
   "metadata": {},
   "outputs": [],
   "source": [
    "import pandas as pd\n",
    "import numpy as np"
   ]
  },
  {
   "cell_type": "code",
   "execution_count": 73,
   "metadata": {},
   "outputs": [],
   "source": [
    "filename = \"./data/text_classify_1.csv\""
   ]
  },
  {
   "cell_type": "code",
   "execution_count": 74,
   "metadata": {},
   "outputs": [],
   "source": [
    "df = pd.read_csv(filename)"
   ]
  },
  {
   "cell_type": "code",
   "execution_count": 75,
   "metadata": {},
   "outputs": [
    {
     "data": {
      "text/html": [
       "<div>\n",
       "<style scoped>\n",
       "    .dataframe tbody tr th:only-of-type {\n",
       "        vertical-align: middle;\n",
       "    }\n",
       "\n",
       "    .dataframe tbody tr th {\n",
       "        vertical-align: top;\n",
       "    }\n",
       "\n",
       "    .dataframe thead th {\n",
       "        text-align: right;\n",
       "    }\n",
       "</style>\n",
       "<table border=\"1\" class=\"dataframe\">\n",
       "  <thead>\n",
       "    <tr style=\"text-align: right;\">\n",
       "      <th></th>\n",
       "      <th>target</th>\n",
       "      <th>context</th>\n",
       "    </tr>\n",
       "  </thead>\n",
       "  <tbody>\n",
       "    <tr>\n",
       "      <td>0</td>\n",
       "      <td>买房</td>\n",
       "      <td>房子还在吗</td>\n",
       "    </tr>\n",
       "    <tr>\n",
       "      <td>1</td>\n",
       "      <td>买房</td>\n",
       "      <td>什么时候可以看房？</td>\n",
       "    </tr>\n",
       "    <tr>\n",
       "      <td>2</td>\n",
       "      <td>买房</td>\n",
       "      <td>您好，请问这套房子还在吗？</td>\n",
       "    </tr>\n",
       "    <tr>\n",
       "      <td>3</td>\n",
       "      <td>买房</td>\n",
       "      <td>你好，我想在浦东新场附近买个商住两用的房子</td>\n",
       "    </tr>\n",
       "    <tr>\n",
       "      <td>4</td>\n",
       "      <td>买房</td>\n",
       "      <td>我是想全款买套房，560左右，想找个不满二税费高的房子，这样我买就很划算</td>\n",
       "    </tr>\n",
       "  </tbody>\n",
       "</table>\n",
       "</div>"
      ],
      "text/plain": [
       "  target                               context\n",
       "0     买房                                 房子还在吗\n",
       "1     买房                             什么时候可以看房？\n",
       "2     买房                         您好，请问这套房子还在吗？\n",
       "3     买房                 你好，我想在浦东新场附近买个商住两用的房子\n",
       "4     买房  我是想全款买套房，560左右，想找个不满二税费高的房子，这样我买就很划算"
      ]
     },
     "execution_count": 75,
     "metadata": {},
     "output_type": "execute_result"
    }
   ],
   "source": [
    "df.head()"
   ]
  },
  {
   "cell_type": "code",
   "execution_count": 102,
   "metadata": {},
   "outputs": [
    {
     "name": "stdout",
     "output_type": "stream",
     "text": [
      "在 target 列中总共有 0 个空值.\n",
      "在 context 列中总共有 0 个空值.\n"
     ]
    }
   ],
   "source": [
    "print(\"在 target 列中总共有 %d 个空值.\" % df['target'].isnull().sum())\n",
    "print(\"在 context 列中总共有 %d 个空值.\" % df['context'].isnull().sum())\n",
    "df[df.isnull().values==True]\n",
    "df = df[pd.notnull(df['context'])]"
   ]
  },
  {
   "cell_type": "code",
   "execution_count": 103,
   "metadata": {},
   "outputs": [],
   "source": [
    "import jieba\n",
    "import re\n",
    "jieba.load_userdict('./data/dict.txt')\n",
    "#定义删除除字母,数字，汉字以外的所有符号的函数\n",
    "def remove_punctuation(line):\n",
    "    line = str(line)\n",
    "    if line.strip()=='':\n",
    "        return ''\n",
    "    rule = re.compile(u\"[^a-zA-Z0-9\\u4E00-\\u9FA5]\")\n",
    "    line = rule.sub('',line)\n",
    "    return line\n",
    " \n",
    "def stopwordslist(filepath):  \n",
    "    stopwords = [line.strip() for line in open(filepath, 'r', encoding='utf-8').readlines()]  \n",
    "    return stopwords  \n",
    " \n",
    "#加载停用词\n",
    "stopwords = stopwordslist(\"./data/stop_words.txt\")"
   ]
  },
  {
   "cell_type": "code",
   "execution_count": 104,
   "metadata": {},
   "outputs": [
    {
     "data": {
      "text/html": [
       "<div>\n",
       "<style scoped>\n",
       "    .dataframe tbody tr th:only-of-type {\n",
       "        vertical-align: middle;\n",
       "    }\n",
       "\n",
       "    .dataframe tbody tr th {\n",
       "        vertical-align: top;\n",
       "    }\n",
       "\n",
       "    .dataframe thead th {\n",
       "        text-align: right;\n",
       "    }\n",
       "</style>\n",
       "<table border=\"1\" class=\"dataframe\">\n",
       "  <thead>\n",
       "    <tr style=\"text-align: right;\">\n",
       "      <th></th>\n",
       "      <th>target</th>\n",
       "      <th>context</th>\n",
       "      <th>clean_content</th>\n",
       "      <th>cut_context</th>\n",
       "      <th>target_id</th>\n",
       "    </tr>\n",
       "  </thead>\n",
       "  <tbody>\n",
       "    <tr>\n",
       "      <td>1057</td>\n",
       "      <td>咨询</td>\n",
       "      <td>通过个人网上业务平台登录时，“普通用户”忘记密码如何处理？</td>\n",
       "      <td>通过个人网上业务平台登录时普通用户忘记密码如何处理</td>\n",
       "      <td>网上 业务 平台 登录 时 普通用户 忘记 密码</td>\n",
       "      <td>2</td>\n",
       "    </tr>\n",
       "    <tr>\n",
       "      <td>776</td>\n",
       "      <td>租赁</td>\n",
       "      <td>计划租一个大约7000块钱上下次卧地公寓</td>\n",
       "      <td>计划租一个大约7000块钱上下次卧地公寓</td>\n",
       "      <td>计划 租 7000 块钱 下次 卧地 公寓</td>\n",
       "      <td>1</td>\n",
       "    </tr>\n",
       "    <tr>\n",
       "      <td>151</td>\n",
       "      <td>买房</td>\n",
       "      <td>找一个maifang大约700萬毛坯</td>\n",
       "      <td>找一个maifang大约700萬毛坯</td>\n",
       "      <td>找 maifang 700 萬 毛坯</td>\n",
       "      <td>0</td>\n",
       "    </tr>\n",
       "    <tr>\n",
       "      <td>678</td>\n",
       "      <td>租赁</td>\n",
       "      <td>看看海淀安宁庄6000的房子</td>\n",
       "      <td>看看海淀安宁庄6000的房子</td>\n",
       "      <td>海淀 安宁 庄 6000</td>\n",
       "      <td>1</td>\n",
       "    </tr>\n",
       "    <tr>\n",
       "      <td>811</td>\n",
       "      <td>咨询</td>\n",
       "      <td>房地产开发商哪家好？该如何选择开发商？</td>\n",
       "      <td>房地产开发商哪家好该如何选择开发商</td>\n",
       "      <td>房地产 开发商 哪家 好该 选择 开发商</td>\n",
       "      <td>2</td>\n",
       "    </tr>\n",
       "    <tr>\n",
       "      <td>688</td>\n",
       "      <td>租赁</td>\n",
       "      <td>是不是整租</td>\n",
       "      <td>是不是整租</td>\n",
       "      <td>整租</td>\n",
       "      <td>1</td>\n",
       "    </tr>\n",
       "    <tr>\n",
       "      <td>1159</td>\n",
       "      <td>咨询</td>\n",
       "      <td>如何开通住房补贴个人网上业务系统使用权限？</td>\n",
       "      <td>如何开通住房补贴个人网上业务系统使用权限</td>\n",
       "      <td>开通 住房补贴 网上 业务 系统 权限</td>\n",
       "      <td>2</td>\n",
       "    </tr>\n",
       "    <tr>\n",
       "      <td>360</td>\n",
       "      <td>买房</td>\n",
       "      <td>我想要mai大概950W以里精装的房子</td>\n",
       "      <td>我想要mai大概950W以里精装的房子</td>\n",
       "      <td>想要 mai 950W 以里 精装</td>\n",
       "      <td>0</td>\n",
       "    </tr>\n",
       "    <tr>\n",
       "      <td>275</td>\n",
       "      <td>买房</td>\n",
       "      <td>我想要大概400WRMB以内精装的屋子</td>\n",
       "      <td>我想要大概400WRMB以内精装的屋子</td>\n",
       "      <td>想要 400WRMB 以内 精装 屋子</td>\n",
       "      <td>0</td>\n",
       "    </tr>\n",
       "    <tr>\n",
       "      <td>1022</td>\n",
       "      <td>咨询</td>\n",
       "      <td>外籍、港澳台在京工作人员离职如何提取住房公积金？</td>\n",
       "      <td>外籍港澳台在京工作人员离职如何提取住房公积金</td>\n",
       "      <td>外籍 港澳台 京 工作人员 离职 提取 住房 公积金</td>\n",
       "      <td>2</td>\n",
       "    </tr>\n",
       "  </tbody>\n",
       "</table>\n",
       "</div>"
      ],
      "text/plain": [
       "     target                        context              clean_content  \\\n",
       "1057     咨询  通过个人网上业务平台登录时，“普通用户”忘记密码如何处理？  通过个人网上业务平台登录时普通用户忘记密码如何处理   \n",
       "776      租赁           计划租一个大约7000块钱上下次卧地公寓       计划租一个大约7000块钱上下次卧地公寓   \n",
       "151      买房             找一个maifang大约700萬毛坯         找一个maifang大约700萬毛坯   \n",
       "678      租赁                 看看海淀安宁庄6000的房子             看看海淀安宁庄6000的房子   \n",
       "811      咨询            房地产开发商哪家好？该如何选择开发商？          房地产开发商哪家好该如何选择开发商   \n",
       "688      租赁                          是不是整租                      是不是整租   \n",
       "1159     咨询          如何开通住房补贴个人网上业务系统使用权限？       如何开通住房补贴个人网上业务系统使用权限   \n",
       "360      买房            我想要mai大概950W以里精装的房子        我想要mai大概950W以里精装的房子   \n",
       "275      买房            我想要大概400WRMB以内精装的屋子        我想要大概400WRMB以内精装的屋子   \n",
       "1022     咨询       外籍、港澳台在京工作人员离职如何提取住房公积金？     外籍港澳台在京工作人员离职如何提取住房公积金   \n",
       "\n",
       "                     cut_context  target_id  \n",
       "1057    网上 业务 平台 登录 时 普通用户 忘记 密码          2  \n",
       "776        计划 租 7000 块钱 下次 卧地 公寓          1  \n",
       "151           找 maifang 700 萬 毛坯          0  \n",
       "678                 海淀 安宁 庄 6000          1  \n",
       "811         房地产 开发商 哪家 好该 选择 开发商          2  \n",
       "688                           整租          1  \n",
       "1159         开通 住房补贴 网上 业务 系统 权限          2  \n",
       "360            想要 mai 950W 以里 精装          0  \n",
       "275          想要 400WRMB 以内 精装 屋子          0  \n",
       "1022  外籍 港澳台 京 工作人员 离职 提取 住房 公积金          2  "
      ]
     },
     "execution_count": 104,
     "metadata": {},
     "output_type": "execute_result"
    }
   ],
   "source": [
    "#删除除字母,数字，汉字以外的所有符号\n",
    "df['clean_content'] = df['context'].apply(remove_punctuation)\n",
    "df.sample(10)"
   ]
  },
  {
   "cell_type": "code",
   "execution_count": 105,
   "metadata": {},
   "outputs": [
    {
     "data": {
      "text/html": [
       "<div>\n",
       "<style scoped>\n",
       "    .dataframe tbody tr th:only-of-type {\n",
       "        vertical-align: middle;\n",
       "    }\n",
       "\n",
       "    .dataframe tbody tr th {\n",
       "        vertical-align: top;\n",
       "    }\n",
       "\n",
       "    .dataframe thead th {\n",
       "        text-align: right;\n",
       "    }\n",
       "</style>\n",
       "<table border=\"1\" class=\"dataframe\">\n",
       "  <thead>\n",
       "    <tr style=\"text-align: right;\">\n",
       "      <th></th>\n",
       "      <th>target</th>\n",
       "      <th>context</th>\n",
       "      <th>clean_content</th>\n",
       "      <th>cut_context</th>\n",
       "      <th>target_id</th>\n",
       "    </tr>\n",
       "  </thead>\n",
       "  <tbody>\n",
       "    <tr>\n",
       "      <td>1182</td>\n",
       "      <td>咨询</td>\n",
       "      <td>你的城市房租收入比是多少？</td>\n",
       "      <td>你的城市房租收入比是多少</td>\n",
       "      <td>城市 房租 收入 比是</td>\n",
       "      <td>2</td>\n",
       "    </tr>\n",
       "    <tr>\n",
       "      <td>1183</td>\n",
       "      <td>咨询</td>\n",
       "      <td>北京老人能投靠子女落户吗？怎么办理？</td>\n",
       "      <td>北京老人能投靠子女落户吗怎么办理</td>\n",
       "      <td>北京 老人 投靠 子女 落户 办理</td>\n",
       "      <td>2</td>\n",
       "    </tr>\n",
       "    <tr>\n",
       "      <td>1184</td>\n",
       "      <td>咨询</td>\n",
       "      <td>北京能办理夫妻投靠落户吗？怎么办理？</td>\n",
       "      <td>北京能办理夫妻投靠落户吗怎么办理</td>\n",
       "      <td>北京 办理 夫妻 投靠 落户 办理</td>\n",
       "      <td>2</td>\n",
       "    </tr>\n",
       "    <tr>\n",
       "      <td>1185</td>\n",
       "      <td>咨询</td>\n",
       "      <td>2017年环京限购政策一览</td>\n",
       "      <td>2017年环京限购政策一览</td>\n",
       "      <td>2017 年 环京 限购 政策 一览</td>\n",
       "      <td>2</td>\n",
       "    </tr>\n",
       "    <tr>\n",
       "      <td>1186</td>\n",
       "      <td>咨询</td>\n",
       "      <td>买商铺需要什么资格，要注意什么？</td>\n",
       "      <td>买商铺需要什么资格要注意什么</td>\n",
       "      <td>买 商铺 资格</td>\n",
       "      <td>2</td>\n",
       "    </tr>\n",
       "  </tbody>\n",
       "</table>\n",
       "</div>"
      ],
      "text/plain": [
       "     target             context     clean_content         cut_context  \\\n",
       "1182     咨询       你的城市房租收入比是多少？      你的城市房租收入比是多少         城市 房租 收入 比是   \n",
       "1183     咨询  北京老人能投靠子女落户吗？怎么办理？  北京老人能投靠子女落户吗怎么办理   北京 老人 投靠 子女 落户 办理   \n",
       "1184     咨询  北京能办理夫妻投靠落户吗？怎么办理？  北京能办理夫妻投靠落户吗怎么办理   北京 办理 夫妻 投靠 落户 办理   \n",
       "1185     咨询       2017年环京限购政策一览     2017年环京限购政策一览  2017 年 环京 限购 政策 一览   \n",
       "1186     咨询    买商铺需要什么资格，要注意什么？    买商铺需要什么资格要注意什么             买 商铺 资格   \n",
       "\n",
       "      target_id  \n",
       "1182          2  \n",
       "1183          2  \n",
       "1184          2  \n",
       "1185          2  \n",
       "1186          2  "
      ]
     },
     "execution_count": 105,
     "metadata": {},
     "output_type": "execute_result"
    }
   ],
   "source": [
    "#分词，并过滤停用词\n",
    "df['cut_context'] = df['clean_content'].apply(lambda x: \" \".join([w for w in list(jieba.cut(x)) if w not in stopwords]))\n",
    "df.tail()"
   ]
  },
  {
   "cell_type": "code",
   "execution_count": 328,
   "metadata": {},
   "outputs": [],
   "source": [
    "from gensim.models import Word2Vec\n",
    "\n",
    "word2vec_model = Word2Vec(df['cut_context'], size=100, window=2, min_count=5, workers=4)\n",
    "#model.save(\"word2vec.model\")"
   ]
  },
  {
   "cell_type": "code",
   "execution_count": 329,
   "metadata": {},
   "outputs": [],
   "source": [
    "##特征工程"
   ]
  },
  {
   "cell_type": "code",
   "execution_count": 330,
   "metadata": {},
   "outputs": [
    {
     "name": "stdout",
     "output_type": "stream",
     "text": [
      "Total Time You Need To Get X:0.17秒\n"
     ]
    },
    {
     "name": "stderr",
     "output_type": "stream",
     "text": [
      "D:\\Tools\\Anaconda3\\lib\\site-packages\\ipykernel_launcher.py:7: DeprecationWarning: Call to deprecated `__contains__` (Method will be removed in 4.0.0, use self.wv.__contains__() instead).\n",
      "  import sys\n",
      "D:\\Tools\\Anaconda3\\lib\\site-packages\\ipykernel_launcher.py:8: DeprecationWarning: Call to deprecated `__getitem__` (Method will be removed in 4.0.0, use self.wv.__getitem__() instead).\n",
      "  \n"
     ]
    }
   ],
   "source": [
    "import time\n",
    "def getVector_v1(cutWords, model_w):\n",
    "        count = 0\n",
    "        article_vector = np.zeros(100)\n",
    "        for cutWord in cutWords:\n",
    "            try:\n",
    "                if cutWord in model_w:\n",
    "                        article_vector += model_w[cutWord]\n",
    "                        count += 1\n",
    "            except KeyError:\n",
    "                continue\n",
    "        if count != 0:\n",
    "            return article_vector / count\n",
    "        else:\n",
    "            return article_vector\n",
    " \n",
    "startTime = time.time()\n",
    "vector_list = []\n",
    "for cutWords in df['cut_context']:\n",
    "    #print(cutWords)\n",
    "    vector_list.append(getVector_v1(cutWords, word2vec_model) )\n",
    "X = np.array(vector_list)\n",
    "\n",
    "print('Total Time You Need To Get X:%.2f秒' % (time.time() - startTime) )"
   ]
  },
  {
   "cell_type": "code",
   "execution_count": 331,
   "metadata": {},
   "outputs": [],
   "source": [
    "from sklearn.preprocessing import LabelEncoder\n",
    "labelEncoder = LabelEncoder()\n",
    "y = labelEncoder.fit_transform(df['target'])"
   ]
  },
  {
   "cell_type": "code",
   "execution_count": 332,
   "metadata": {},
   "outputs": [],
   "source": [
    "from sklearn.model_selection import train_test_split\n",
    "from sklearn.linear_model import LogisticRegression\n",
    "from sklearn.svm import LinearSVC"
   ]
  },
  {
   "cell_type": "code",
   "execution_count": 333,
   "metadata": {
    "scrolled": true
   },
   "outputs": [
    {
     "data": {
      "text/plain": [
       "LogisticRegression(C=1.0, class_weight='balanced', dual=False,\n",
       "                   fit_intercept=False, intercept_scaling=1, l1_ratio=None,\n",
       "                   max_iter=10000, multi_class='ovr', n_jobs=-1, penalty='l2',\n",
       "                   random_state=2019, solver='lbfgs', tol=0.0001, verbose=0,\n",
       "                   warm_start=False)"
      ]
     },
     "execution_count": 333,
     "metadata": {},
     "output_type": "execute_result"
    }
   ],
   "source": [
    "train_X, test_X, train_y, test_y = train_test_split(X, y, test_size=0.2, random_state=42)\n",
    "lr_model = LogisticRegression(C=1.0, \n",
    "                            class_weight='balanced', \n",
    "                            dual=False, \n",
    "                            fit_intercept=False,\n",
    "                            max_iter=10000,\n",
    "                            multi_class='ovr', \n",
    "                            n_jobs=-1, \n",
    "                            penalty='l2', \n",
    "                            solver='lbfgs',\n",
    "                            random_state=2019, \n",
    "                            tol=0.0001)\n",
    "lr_model.fit(train_X,train_y)"
   ]
  },
  {
   "cell_type": "code",
   "execution_count": 334,
   "metadata": {},
   "outputs": [],
   "source": [
    "lr_y_pred = lr_model.predict(test_X)"
   ]
  },
  {
   "cell_type": "code",
   "execution_count": 335,
   "metadata": {},
   "outputs": [
    {
     "data": {
      "text/plain": [
       "array([[ 1.74846313e-01,  1.37848028e-01,  1.26552732e-02, ...,\n",
       "        -1.73304025e-01,  1.45268401e-01,  1.12070800e-01],\n",
       "       [ 1.98234639e-01,  1.59262179e-01,  1.70744178e-03, ...,\n",
       "        -2.15147700e-01,  1.74750092e-01,  1.27009476e-01],\n",
       "       [ 2.06257808e-01,  1.65660626e-01, -1.13691510e-04, ...,\n",
       "        -2.27007715e-01,  1.85515044e-01,  1.30936066e-01],\n",
       "       ...,\n",
       "       [ 1.84460615e-01,  1.45165396e-01,  1.11325172e-02, ...,\n",
       "        -1.85311531e-01,  1.59023134e-01,  1.15954757e-01],\n",
       "       [ 1.89842030e-01,  1.50663805e-01,  1.16109594e-02, ...,\n",
       "        -1.97987235e-01,  1.60188174e-01,  1.18930071e-01],\n",
       "       [ 1.90394097e-01,  1.54418047e-01,  2.56339446e-03, ...,\n",
       "        -2.06731212e-01,  1.68761785e-01,  1.19188345e-01]])"
      ]
     },
     "execution_count": 335,
     "metadata": {},
     "output_type": "execute_result"
    }
   ],
   "source": [
    "test_X"
   ]
  },
  {
   "cell_type": "code",
   "execution_count": 336,
   "metadata": {},
   "outputs": [],
   "source": [
    "from sklearn.metrics import accuracy_score\n",
    "from sklearn.metrics import classification_report"
   ]
  },
  {
   "cell_type": "code",
   "execution_count": 337,
   "metadata": {},
   "outputs": [
    {
     "name": "stdout",
     "output_type": "stream",
     "text": [
      "accuracy 0.6764705882352942\n",
      "['买房' '咨询' '租赁']\n",
      "              precision    recall  f1-score   support\n",
      "\n",
      "           0       0.87      0.31      0.46        84\n",
      "           1       0.76      1.00      0.86        76\n",
      "           2       0.55      0.76      0.63        78\n",
      "\n",
      "    accuracy                           0.68       238\n",
      "   macro avg       0.72      0.69      0.65       238\n",
      "weighted avg       0.73      0.68      0.64       238\n",
      "\n"
     ]
    },
    {
     "name": "stderr",
     "output_type": "stream",
     "text": [
      "D:\\Tools\\Anaconda3\\lib\\site-packages\\sklearn\\preprocessing\\label.py:273: DataConversionWarning: A column-vector y was passed when a 1d array was expected. Please change the shape of y to (n_samples, ), for example using ravel().\n",
      "  y = column_or_1d(y, warn=True)\n"
     ]
    }
   ],
   "source": [
    "print('accuracy %s' % accuracy_score(lr_y_pred, test_y))\n",
    "print(labelEncoder.inverse_transform([[x] for x in range(3)]))\n",
    "print(classification_report(test_y, lr_y_pred))"
   ]
  },
  {
   "cell_type": "code",
   "execution_count": 338,
   "metadata": {},
   "outputs": [],
   "source": [
    "def getVectorMatrix(text):\n",
    "    return np.array([getVector_v1(text, word2vec_model)])\n",
    "def lr_myPredict(text_pre):\n",
    "    format_sec=\" \".join([w for w in list(jieba.cut(remove_punctuation(text_pre))) if w not in stopwords])\n",
    "    return lr_model.predict(getVectorMatrix(format_sec))[0]"
   ]
  },
  {
   "cell_type": "code",
   "execution_count": 339,
   "metadata": {},
   "outputs": [
    {
     "data": {
      "text/plain": [
       "(1, 100)"
      ]
     },
     "execution_count": 339,
     "metadata": {},
     "output_type": "execute_result"
    }
   ],
   "source": [
    "featureMatrix.shape"
   ]
  },
  {
   "cell_type": "code",
   "execution_count": 340,
   "metadata": {},
   "outputs": [
    {
     "name": "stderr",
     "output_type": "stream",
     "text": [
      "D:\\Tools\\Anaconda3\\lib\\site-packages\\ipykernel_launcher.py:7: DeprecationWarning: Call to deprecated `__contains__` (Method will be removed in 4.0.0, use self.wv.__contains__() instead).\n",
      "  import sys\n",
      "D:\\Tools\\Anaconda3\\lib\\site-packages\\ipykernel_launcher.py:8: DeprecationWarning: Call to deprecated `__getitem__` (Method will be removed in 4.0.0, use self.wv.__getitem__() instead).\n",
      "  \n"
     ]
    },
    {
     "data": {
      "text/plain": [
       "1"
      ]
     },
     "execution_count": 340,
     "metadata": {},
     "output_type": "execute_result"
    }
   ],
   "source": [
    "lr_myPredict(\"租房\")"
   ]
  },
  {
   "cell_type": "code",
   "execution_count": 341,
   "metadata": {},
   "outputs": [],
   "source": [
    "sv_clf = LinearSVC(C=0.1,                                     \n",
    "                   class_weight=None,       \n",
    "                   fit_intercept=False,       \n",
    "                   loss='squared_hinge',    \n",
    "                   max_iter=10000,\n",
    "                   multi_class='ovr',       \n",
    "                   penalty='l2',        \n",
    "                   random_state=2019, \n",
    "                   tol=0.0001)"
   ]
  },
  {
   "cell_type": "code",
   "execution_count": 342,
   "metadata": {},
   "outputs": [
    {
     "data": {
      "text/plain": [
       "LinearSVC(C=0.1, class_weight=None, dual=True, fit_intercept=False,\n",
       "          intercept_scaling=1, loss='squared_hinge', max_iter=10000,\n",
       "          multi_class='ovr', penalty='l2', random_state=2019, tol=0.0001,\n",
       "          verbose=0)"
      ]
     },
     "execution_count": 342,
     "metadata": {},
     "output_type": "execute_result"
    }
   ],
   "source": [
    "sv_clf.fit(train_X, train_y)"
   ]
  },
  {
   "cell_type": "code",
   "execution_count": 343,
   "metadata": {},
   "outputs": [],
   "source": [
    "sv_y_pred = lr_model.predict(test_X)"
   ]
  },
  {
   "cell_type": "code",
   "execution_count": 344,
   "metadata": {},
   "outputs": [
    {
     "name": "stdout",
     "output_type": "stream",
     "text": [
      "accuracy 0.6764705882352942\n",
      "['买房' '咨询' '租赁']\n",
      "              precision    recall  f1-score   support\n",
      "\n",
      "           0       0.87      0.31      0.46        84\n",
      "           1       0.76      1.00      0.86        76\n",
      "           2       0.55      0.76      0.63        78\n",
      "\n",
      "    accuracy                           0.68       238\n",
      "   macro avg       0.72      0.69      0.65       238\n",
      "weighted avg       0.73      0.68      0.64       238\n",
      "\n"
     ]
    },
    {
     "name": "stderr",
     "output_type": "stream",
     "text": [
      "D:\\Tools\\Anaconda3\\lib\\site-packages\\sklearn\\preprocessing\\label.py:273: DataConversionWarning: A column-vector y was passed when a 1d array was expected. Please change the shape of y to (n_samples, ), for example using ravel().\n",
      "  y = column_or_1d(y, warn=True)\n"
     ]
    }
   ],
   "source": [
    "print('accuracy %s' % accuracy_score(sv_y_pred, test_y))\n",
    "print(labelEncoder.inverse_transform([[x] for x in range(3)]))\n",
    "print(classification_report(test_y, sv_y_pred))"
   ]
  },
  {
   "cell_type": "code",
   "execution_count": 345,
   "metadata": {},
   "outputs": [],
   "source": [
    "from xgboost import XGBClassifier\n",
    "xgb_clf = XGBClassifier(learning_rate=0.01,        #学习率\n",
    "                        n_estimators=1000,          # 树的个数--1000棵树建立xgboost\n",
    "                        max_depth=6,             # 树的深度\n",
    "                        min_child_weight=1,        # 叶子节点最小权重\n",
    "                        gamma=0.,                  # 惩罚项中叶子结点个数前的参数\n",
    "                        subsample=0.8,             # 随机选择80%样本建立决策树\n",
    "                        colsample_btree=0.8,       # 随机选择80%特征建立决策树\n",
    "                        objective='multi:softmax', # 指定损失函数\n",
    "                        colsample_bynode=1,        #每个节点（拆分）的列的子样本比率\n",
    "                        colsample_bylevel=1,       #构建每一层时，列采样率 \n",
    "                        nthread=20,                #并行线程数\n",
    "                        random_state=2019)"
   ]
  },
  {
   "cell_type": "code",
   "execution_count": 346,
   "metadata": {},
   "outputs": [
    {
     "data": {
      "text/plain": [
       "XGBClassifier(base_score=0.5, booster='gbtree', colsample_btree=0.8,\n",
       "              colsample_bylevel=1, colsample_bynode=1, colsample_bytree=1,\n",
       "              gamma=0.0, learning_rate=0.01, max_delta_step=0, max_depth=6,\n",
       "              min_child_weight=1, missing=None, n_estimators=1000, n_jobs=1,\n",
       "              nthread=20, objective='multi:softprob', random_state=2019,\n",
       "              reg_alpha=0, reg_lambda=1, scale_pos_weight=1, seed=None,\n",
       "              silent=None, subsample=0.8, verbosity=1)"
      ]
     },
     "execution_count": 346,
     "metadata": {},
     "output_type": "execute_result"
    }
   ],
   "source": [
    "xgb_clf.fit(train_X,train_y)"
   ]
  },
  {
   "cell_type": "code",
   "execution_count": 347,
   "metadata": {},
   "outputs": [],
   "source": [
    "xgb_y_pred = xgb_clf.predict(test_X)"
   ]
  },
  {
   "cell_type": "code",
   "execution_count": 348,
   "metadata": {},
   "outputs": [
    {
     "name": "stdout",
     "output_type": "stream",
     "text": [
      "accuracy 0.9243697478991597\n",
      "['买房' '咨询' '租赁']\n",
      "              precision    recall  f1-score   support\n",
      "\n",
      "           0       0.95      0.89      0.92        84\n",
      "           1       0.94      0.96      0.95        76\n",
      "           2       0.89      0.92      0.91        78\n",
      "\n",
      "    accuracy                           0.92       238\n",
      "   macro avg       0.92      0.93      0.92       238\n",
      "weighted avg       0.93      0.92      0.92       238\n",
      "\n"
     ]
    }
   ],
   "source": [
    "print('accuracy %s' % accuracy_score(xgb_y_pred, test_y))\n",
    "print(labelEncoder.inverse_transform([[x] for x in range(3)]))\n",
    "print(classification_report(test_y, xgb_y_pred))"
   ]
  },
  {
   "cell_type": "code",
   "execution_count": 354,
   "metadata": {},
   "outputs": [],
   "source": [
    "def getVectorMatrix(text):\n",
    "    return np.array([getVector_v1(text, word2vec_model)])\n",
    "def xgb_myPredict(text_pre):\n",
    "    format_sec=\" \".join([w for w in list(jieba.cut(remove_punctuation(text_pre))) if w not in stopwords])\n",
    "    c = xgb_clf.predict(getVectorMatrix(format_sec))[0]\n",
    "    if c == 0:\n",
    "        return \"买房\"\n",
    "    elif c == 1:\n",
    "        return \"咨询\"\n",
    "    else:\n",
    "        return \"租赁\""
   ]
  },
  {
   "cell_type": "code",
   "execution_count": 355,
   "metadata": {},
   "outputs": [
    {
     "name": "stderr",
     "output_type": "stream",
     "text": [
      "D:\\Tools\\Anaconda3\\lib\\site-packages\\ipykernel_launcher.py:7: DeprecationWarning: Call to deprecated `__contains__` (Method will be removed in 4.0.0, use self.wv.__contains__() instead).\n",
      "  import sys\n",
      "D:\\Tools\\Anaconda3\\lib\\site-packages\\ipykernel_launcher.py:8: DeprecationWarning: Call to deprecated `__getitem__` (Method will be removed in 4.0.0, use self.wv.__getitem__() instead).\n",
      "  \n"
     ]
    },
    {
     "data": {
      "text/plain": [
       "'租赁'"
      ]
     },
     "execution_count": 355,
     "metadata": {},
     "output_type": "execute_result"
    }
   ],
   "source": [
    "xgb_myPredict(\"租三室一厅\")"
   ]
  },
  {
   "cell_type": "code",
   "execution_count": null,
   "metadata": {},
   "outputs": [],
   "source": []
  },
  {
   "cell_type": "code",
   "execution_count": null,
   "metadata": {},
   "outputs": [],
   "source": []
  }
 ],
 "metadata": {
  "kernelspec": {
   "display_name": "Python 3",
   "language": "python",
   "name": "python3"
  },
  "language_info": {
   "codemirror_mode": {
    "name": "ipython",
    "version": 3
   },
   "file_extension": ".py",
   "mimetype": "text/x-python",
   "name": "python",
   "nbconvert_exporter": "python",
   "pygments_lexer": "ipython3",
   "version": "3.7.4"
  }
 },
 "nbformat": 4,
 "nbformat_minor": 2
}
